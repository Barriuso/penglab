{
  "nbformat": 4,
  "nbformat_minor": 0,
  "metadata": {
    "accelerator": "GPU",
    "colab": {
      "name": "Penglab_Barry_Publico.ipynb",
      "provenance": [],
      "collapsed_sections": [],
      "include_colab_link": true
    },
    "kernelspec": {
      "display_name": "Python 3",
      "name": "python3"
    },
    "widgets": {
      "application/vnd.jupyter.widget-state+json": {
        "72a99a5ab1ab44b4aa596793d84588f0": {
          "model_module": "@jupyter-widgets/controls",
          "model_name": "LabelModel",
          "state": {
            "_view_name": "LabelView",
            "style": "IPY_MODEL_a00aa5828c3041e0bed7ec5ac420eb67",
            "_dom_classes": [],
            "description": "",
            "_model_name": "LabelModel",
            "placeholder": "​",
            "_view_module": "@jupyter-widgets/controls",
            "_model_module_version": "1.5.0",
            "value": "ssh-import-id: Installed ssh-import-id (amd64)",
            "_view_count": null,
            "_view_module_version": "1.5.0",
            "description_tooltip": null,
            "_model_module": "@jupyter-widgets/controls",
            "layout": "IPY_MODEL_6e23d6d06a2a4de0a40558486aa0d5ec"
          }
        },
        "a00aa5828c3041e0bed7ec5ac420eb67": {
          "model_module": "@jupyter-widgets/controls",
          "model_name": "DescriptionStyleModel",
          "state": {
            "_view_name": "StyleView",
            "_model_name": "DescriptionStyleModel",
            "description_width": "",
            "_view_module": "@jupyter-widgets/base",
            "_model_module_version": "1.5.0",
            "_view_count": null,
            "_view_module_version": "1.2.0",
            "_model_module": "@jupyter-widgets/controls"
          }
        },
        "6e23d6d06a2a4de0a40558486aa0d5ec": {
          "model_module": "@jupyter-widgets/base",
          "model_name": "LayoutModel",
          "state": {
            "_view_name": "LayoutView",
            "grid_template_rows": null,
            "right": null,
            "justify_content": null,
            "_view_module": "@jupyter-widgets/base",
            "overflow": null,
            "_model_module_version": "1.2.0",
            "_view_count": null,
            "flex_flow": null,
            "width": null,
            "min_width": null,
            "border": null,
            "align_items": null,
            "bottom": null,
            "_model_module": "@jupyter-widgets/base",
            "top": null,
            "grid_column": null,
            "overflow_y": null,
            "overflow_x": null,
            "grid_auto_flow": null,
            "grid_area": null,
            "grid_template_columns": null,
            "flex": null,
            "_model_name": "LayoutModel",
            "justify_items": null,
            "grid_row": null,
            "max_height": null,
            "align_content": null,
            "visibility": null,
            "align_self": null,
            "height": null,
            "min_height": null,
            "padding": null,
            "grid_auto_rows": null,
            "grid_gap": null,
            "max_width": null,
            "order": null,
            "_view_module_version": "1.2.0",
            "grid_template_areas": null,
            "object_position": null,
            "object_fit": null,
            "grid_auto_columns": null,
            "margin": null,
            "display": null,
            "left": null
          }
        },
        "2f3a9fd860a44abd81798a2c8df28eaf": {
          "model_module": "@jupyter-widgets/controls",
          "model_name": "FloatProgressModel",
          "state": {
            "_view_name": "ProgressView",
            "style": "IPY_MODEL_89e5f888af5640a49e412a0633a92c77",
            "_dom_classes": [],
            "description": "",
            "_model_name": "FloatProgressModel",
            "bar_style": "",
            "max": 1,
            "_view_module": "@jupyter-widgets/controls",
            "_model_module_version": "1.5.0",
            "value": 0.982143,
            "_view_count": null,
            "_view_module_version": "1.5.0",
            "orientation": "horizontal",
            "min": 0,
            "description_tooltip": null,
            "_model_module": "@jupyter-widgets/controls",
            "layout": "IPY_MODEL_f8ad2ec053cf43ada540023861e4db94"
          }
        },
        "89e5f888af5640a49e412a0633a92c77": {
          "model_module": "@jupyter-widgets/controls",
          "model_name": "ProgressStyleModel",
          "state": {
            "_view_name": "StyleView",
            "_model_name": "ProgressStyleModel",
            "description_width": "",
            "_view_module": "@jupyter-widgets/base",
            "_model_module_version": "1.5.0",
            "_view_count": null,
            "_view_module_version": "1.2.0",
            "bar_color": null,
            "_model_module": "@jupyter-widgets/controls"
          }
        },
        "f8ad2ec053cf43ada540023861e4db94": {
          "model_module": "@jupyter-widgets/base",
          "model_name": "LayoutModel",
          "state": {
            "_view_name": "LayoutView",
            "grid_template_rows": null,
            "right": null,
            "justify_content": null,
            "_view_module": "@jupyter-widgets/base",
            "overflow": null,
            "_model_module_version": "1.2.0",
            "_view_count": null,
            "flex_flow": null,
            "width": null,
            "min_width": null,
            "border": "1px solid #118800",
            "align_items": null,
            "bottom": null,
            "_model_module": "@jupyter-widgets/base",
            "top": null,
            "grid_column": null,
            "overflow_y": null,
            "overflow_x": null,
            "grid_auto_flow": null,
            "grid_area": null,
            "grid_template_columns": null,
            "flex": null,
            "_model_name": "LayoutModel",
            "justify_items": null,
            "grid_row": null,
            "max_height": null,
            "align_content": null,
            "visibility": null,
            "align_self": null,
            "height": null,
            "min_height": null,
            "padding": null,
            "grid_auto_rows": null,
            "grid_gap": null,
            "max_width": null,
            "order": null,
            "_view_module_version": "1.2.0",
            "grid_template_areas": null,
            "object_position": null,
            "object_fit": null,
            "grid_auto_columns": null,
            "margin": null,
            "display": null,
            "left": null
          }
        }
      }
    }
  },
  "cells": [
    {
      "cell_type": "markdown",
      "metadata": {
        "id": "view-in-github",
        "colab_type": "text"
      },
      "source": [
        "<a href=\"https://colab.research.google.com/github/Barriuso/penglab/blob/master/Penglab_Barry.ipynb\" target=\"_parent\"><img src=\"https://colab.research.google.com/assets/colab-badge.svg\" alt=\"Open In Colab\"/></a>"
      ]
    },
    {
      "cell_type": "code",
      "metadata": {
        "id": "vp4LSKizX-8E"
      },
      "source": [
        "#Penglab (Abuse of Google Colab for fun and profit)\n",
        "#Original by mxrch, edited by @_Barriuso\n",
        "\n",
        "#Choose what you want to install\n",
        "hashcat = True\n",
        "john = False\n",
        "hydra = False\n",
        "\n",
        "#Which shell ? (only one, or none)\n",
        "#⚠️ Don't select a shell to run bash commands in the Google Colab way (you'll see). Stable.\n",
        "ssh = True #It uses ngrok. Stable and interactive, but take a little time to setup\n",
        "python_shell = False #Useful for little hashes, but not for long hours, since you'll see the output only when it finish. Not interactive, but stable.\n",
        "bash_shell = False #Useful for big hashes. but you'll don't see your input (surely a Google Colab protection). Stable.\n",
        "\n",
        "#Wordlists (see weakpass.com to download them)\n",
        "wordlists_dir = \"wordlists\"\n",
        "\n",
        "rockyou = False #For CTFs, especially Hack The Box (133.44 Mb)\n",
        "hashesorg2019 = False #Very heavy (12.79 Gb) but has a good rate, if you're determinated\n",
        "kaonashi_small = True\n",
        "kaonashi_BIG = False # Tarda un cojon en descargarse xD. Most updated than rockyou\n",
        "kaonashi_WPA = False\n",
        "\n",
        "#---------------------------\n",
        "\n",
        "if (python_shell and bash_shell) or (bash_shell and ssh) or (ssh and python_shell) :\n",
        "    print(\"Please do a choice\")\n",
        "    exit()"
      ],
      "execution_count": null,
      "outputs": []
    },
    {
      "cell_type": "code",
      "metadata": {
        "id": "bG3hglwpZCB_",
        "outputId": "ea5bd875-55d3-4dd9-81c6-6bcf865864be",
        "colab": {
          "base_uri": "https://localhost:8080/",
          "height": 717
        }
      },
      "source": [
        "#Wordlists\n",
        "import os\n",
        "\n",
        "os.system(\"wordlists_dir={}\".format(wordlists_dir))\n",
        "!mkdir ./$wordlists_dir\n",
        "if rockyou:\n",
        "    !printf \"[+] Downloading the Rockyou wordlist...\\n\"\n",
        "    !cd $wordlists_dir && wget https://download.weakpass.com/wordlists/90/rockyou.txt.gz\n",
        "    !printf \"[+] Wordlist downloaded !\\n[+] Extraction...\\n\"\n",
        "    !cd $wordlists_dir && gunzip rockyou.txt.gz\n",
        "    !printf \"[+] Finished !\\n[+] Location : $(pwd)/$wordlists_dir/$(ls wordlists | grep rockyou)\"\n",
        "\n",
        "if hashesorg2019:\n",
        "    !printf \"[+] Downloading the HashesOrg2019 wordlist...\\n\"\n",
        "    !cd $wordlists_dir && wget https://download.weakpass.com/wordlists/1851/hashesorg2019.gz\n",
        "    !printf \"[+] Wordlist downloaded !\\n[+] Extraction...\\n\"\n",
        "    !cd $wordlists_dir && gunzip hashesorg2019.gz\n",
        "    !printf \"[+] Finished !\\n[+] Location : $(pwd)/$wordlists_dir/$(ls wordlists | grep hashesorg2019)\"\n",
        "  \n",
        "if kaonashi_BIG:\n",
        "  !printf \"[+] Downloading Kaonashi wordlist...\\n\"\n",
        "  !apt-get install megatools\n",
        "  !printf \"Starting download. It takes longg time!!\"\n",
        "  !cd $wordlists_dir && megadl https://mega.nz/#!nWJXzYzS!P1G8HDiMxq5wFaxeWGWx334Wp9wByj5kMEGLZkVX694\n",
        "  !cd $wordlists_dir && 7z x kaonashi.7z\n",
        "  !printf \"[+] Finished ! We are going to delete the .7z files\\n\"\n",
        "  !cd $wordlists_dir && rm -f kaonashi.7z\n",
        "\n",
        "if kaonashi_small:\n",
        "  !printf \"[+] Downloading Kaonashi small wordlist...\\n\"\n",
        "  !apt-get install megatools\n",
        "  !printf \"Starting download\"\n",
        "  !cd $wordlists_dir && megadl https://mega.nz/#!7fIlxQaC!BlrWduRgBwWH_Za9SoEJnnq7ySrV4E_NzfTtn_OI418\n",
        "  !cd $wordlists_dir && 7z x kaonashi14M.7z\n",
        "  !printf \"[+] Finished ! We are going to delete the .7z files\\n\"\n",
        "  !cd $wordlists_dir && rm -f kaonashi14M.7z\n",
        "\n",
        "if kaonashi_WPA:\n",
        "  !printf \"[+] Downloading Kaonashi WPA2...\\n\"\n",
        "  !apt-get install megatools\n",
        "  !printf \"Starting download\"\n",
        "  !cd $wordlists_dir && megadl https://mega.nz/file/jeRRgQgZ#xcRcLpm0ftuu7z7JN32LHMECqk9vmpVNH2JFVxSICfU\n",
        "  !cd $wordlists_dir && 7z x kaonashiWPA100M.7z\n",
        "  !printf \"[+] Finished ! We are going to delete the .7z files\\n\"\n",
        "  !cd $wordlists_dir && rm -f kaonashiWPA100M.7z"
      ],
      "execution_count": null,
      "outputs": [
        {
          "output_type": "stream",
          "text": [
            "[+] Downloading Kaonashi small wordlist...\n",
            "Reading package lists... Done\n",
            "Building dependency tree       \n",
            "Reading state information... Done\n",
            "The following NEW packages will be installed:\n",
            "  megatools\n",
            "0 upgraded, 1 newly installed, 0 to remove and 21 not upgraded.\n",
            "Need to get 148 kB of archives.\n",
            "After this operation, 1,097 kB of additional disk space will be used.\n",
            "Get:1 http://archive.ubuntu.com/ubuntu bionic/universe amd64 megatools amd64 1.9.98-1build2 [148 kB]\n",
            "Fetched 148 kB in 1s (292 kB/s)\n",
            "Selecting previously unselected package megatools.\n",
            "(Reading database ... 144611 files and directories currently installed.)\n",
            "Preparing to unpack .../megatools_1.9.98-1build2_amd64.deb ...\n",
            "Unpacking megatools (1.9.98-1build2) ...\n",
            "Setting up megatools (1.9.98-1build2) ...\n",
            "Processing triggers for man-db (2.8.3-2ubuntu0.1) ...\n",
            "\u001b[0KDownloaded kaonashi14M.7z\n",
            "\n",
            "7-Zip [64] 16.02 : Copyright (c) 1999-2016 Igor Pavlov : 2016-05-21\n",
            "p7zip Version 16.02 (locale=en_US.UTF-8,Utf16=on,HugeFiles=on,64 bits,2 CPUs Intel(R) Xeon(R) CPU @ 2.20GHz (406F0),ASM,AES-NI)\n",
            "\n",
            "Scanning the drive for archives:\n",
            "  0M Scan\b\b\b\b\b\b\b\b\b         \b\b\b\b\b\b\b\b\b1 file, 50028400 bytes (48 MiB)\n",
            "\n",
            "Extracting archive: kaonashi14M.7z\n",
            "--\n",
            "Path = kaonashi14M.7z\n",
            "Type = 7z\n",
            "Physical Size = 50028400\n",
            "Headers Size = 138\n",
            "Method = LZMA2:24\n",
            "Solid = -\n",
            "Blocks = 1\n",
            "\n",
            "  0%\b\b\b\b    \b\b\b\b  6% - kaonashi14M.txt\b\b\b\b\b\b\b\b\b\b\b\b\b\b\b\b\b\b\b\b\b\b                      \b\b\b\b\b\b\b\b\b\b\b\b\b\b\b\b\b\b\b\b\b\b 12% - kaonashi14M.txt\b\b\b\b\b\b\b\b\b\b\b\b\b\b\b\b\b\b\b\b\b\b                      \b\b\b\b\b\b\b\b\b\b\b\b\b\b\b\b\b\b\b\b\b\b 18% - kaonashi14M.txt\b\b\b\b\b\b\b\b\b\b\b\b\b\b\b\b\b\b\b\b\b\b                      \b\b\b\b\b\b\b\b\b\b\b\b\b\b\b\b\b\b\b\b\b\b 24% - kaonashi14M.txt\b\b\b\b\b\b\b\b\b\b\b\b\b\b\b\b\b\b\b\b\b\b                      \b\b\b\b\b\b\b\b\b\b\b\b\b\b\b\b\b\b\b\b\b\b 30% - kaonashi14M.txt\b\b\b\b\b\b\b\b\b\b\b\b\b\b\b\b\b\b\b\b\b\b                      \b\b\b\b\b\b\b\b\b\b\b\b\b\b\b\b\b\b\b\b\b\b 36% - kaonashi14M.txt\b\b\b\b\b\b\b\b\b\b\b\b\b\b\b\b\b\b\b\b\b\b                      \b\b\b\b\b\b\b\b\b\b\b\b\b\b\b\b\b\b\b\b\b\b 42% - kaonashi14M.txt\b\b\b\b\b\b\b\b\b\b\b\b\b\b\b\b\b\b\b\b\b\b                      \b\b\b\b\b\b\b\b\b\b\b\b\b\b\b\b\b\b\b\b\b\b 48% - kaonashi14M.txt\b\b\b\b\b\b\b\b\b\b\b\b\b\b\b\b\b\b\b\b\b\b                      \b\b\b\b\b\b\b\b\b\b\b\b\b\b\b\b\b\b\b\b\b\b 54% - kaonashi14M.txt\b\b\b\b\b\b\b\b\b\b\b\b\b\b\b\b\b\b\b\b\b\b                      \b\b\b\b\b\b\b\b\b\b\b\b\b\b\b\b\b\b\b\b\b\b 60% - kaonashi14M.txt\b\b\b\b\b\b\b\b\b\b\b\b\b\b\b\b\b\b\b\b\b\b                      \b\b\b\b\b\b\b\b\b\b\b\b\b\b\b\b\b\b\b\b\b\b 66% - kaonashi14M.txt\b\b\b\b\b\b\b\b\b\b\b\b\b\b\b\b\b\b\b\b\b\b                      \b\b\b\b\b\b\b\b\b\b\b\b\b\b\b\b\b\b\b\b\b\b 72% - kaonashi14M.txt\b\b\b\b\b\b\b\b\b\b\b\b\b\b\b\b\b\b\b\b\b\b                      \b\b\b\b\b\b\b\b\b\b\b\b\b\b\b\b\b\b\b\b\b\b 78% - kaonashi14M.txt\b\b\b\b\b\b\b\b\b\b\b\b\b\b\b\b\b\b\b\b\b\b                      \b\b\b\b\b\b\b\b\b\b\b\b\b\b\b\b\b\b\b\b\b\b 84% - kaonashi14M.txt\b\b\b\b\b\b\b\b\b\b\b\b\b\b\b\b\b\b\b\b\b\b                      \b\b\b\b\b\b\b\b\b\b\b\b\b\b\b\b\b\b\b\b\b\b 91% - kaonashi14M.txt\b\b\b\b\b\b\b\b\b\b\b\b\b\b\b\b\b\b\b\b\b\b                      \b\b\b\b\b\b\b\b\b\b\b\b\b\b\b\b\b\b\b\b\b\b 96% - kaonashi14M.txt\b\b\b\b\b\b\b\b\b\b\b\b\b\b\b\b\b\b\b\b\b\b                      \b\b\b\b\b\b\b\b\b\b\b\b\b\b\b\b\b\b\b\b\b\bEverything is Ok\n",
            "\n",
            "Size:       138263610\n",
            "Compressed: 50028400\n",
            "[+] Finished ! We are going to delete the .7z files\n"
          ],
          "name": "stdout"
        }
      ]
    },
    {
      "cell_type": "code",
      "metadata": {
        "id": "nkcgYemCZA2n",
        "outputId": "f4985727-5cfe-4fe4-b310-e66578ada516",
        "colab": {
          "base_uri": "https://localhost:8080/",
          "height": 632
        }
      },
      "source": [
        "#Install of hashcat\n",
        "if hashcat:\n",
        "    print(\"Installation of hashcat...\")\n",
        "    !wget https://hashcat.net/files/hashcat-6.1.1.7z -O /root/hashcat-6.1.1.7z && 7z x /root/hashcat-6.1.1.7z\n",
        "    !cd "
      ],
      "execution_count": null,
      "outputs": [
        {
          "output_type": "stream",
          "text": [
            "Installation of hashcat...\n",
            "--2020-10-23 12:27:05--  https://hashcat.net/files/hashcat-6.1.1.7z\n",
            "Resolving hashcat.net (hashcat.net)... 151.80.143.33, 2001:41d0:302:2100::8aca\n",
            "Connecting to hashcat.net (hashcat.net)|151.80.143.33|:443... connected.\n",
            "HTTP request sent, awaiting response... 200 OK\n",
            "Length: 6156424 (5.9M) [application/x-7z-compressed]\n",
            "Saving to: ‘/root/hashcat-6.1.1.7z’\n",
            "\n",
            "/root/hashcat-6.1.1 100%[===================>]   5.87M  6.91MB/s    in 0.8s    \n",
            "\n",
            "2020-10-23 12:27:07 (6.91 MB/s) - ‘/root/hashcat-6.1.1.7z’ saved [6156424/6156424]\n",
            "\n",
            "\n",
            "7-Zip [64] 16.02 : Copyright (c) 1999-2016 Igor Pavlov : 2016-05-21\n",
            "p7zip Version 16.02 (locale=en_US.UTF-8,Utf16=on,HugeFiles=on,64 bits,2 CPUs Intel(R) Xeon(R) CPU @ 2.20GHz (406F0),ASM,AES-NI)\n",
            "\n",
            "Scanning the drive for archives:\n",
            "  0M Scan /root/\b\b\b\b\b\b\b\b\b\b\b\b\b\b\b\b                \b\b\b\b\b\b\b\b\b\b\b\b\b\b\b\b1 file, 6156424 bytes (6013 KiB)\n",
            "\n",
            "Extracting archive: /root/hashcat-6.1.1.7z\n",
            "--\n",
            "Path = /root/hashcat-6.1.1.7z\n",
            "Type = 7z\n",
            "Physical Size = 6156424\n",
            "Headers Size = 14695\n",
            "Method = LZMA2:192m LZMA:20 BCJ2\n",
            "Solid = +\n",
            "Blocks = 2\n",
            "\n",
            "  0%\b\b\b\b    \b\b\b\b  8% 838 - hashcat-6.1.1/OpenCL/m16600_a0-pure.cl\b\b\b\b\b\b\b\b\b\b\b\b\b\b\b\b\b\b\b\b\b\b\b\b\b\b\b\b\b\b\b\b\b\b\b\b\b\b\b\b\b\b\b\b\b\b\b\b\b                                                 \b\b\b\b\b\b\b\b\b\b\b\b\b\b\b\b\b\b\b\b\b\b\b\b\b\b\b\b\b\b\b\b\b\b\b\b\b\b\b\b\b\b\b\b\b\b\b\b\b 23% 1248 - hashcat-6.1.1/modules/module_02501.so\b\b\b\b\b\b\b\b\b\b\b\b\b\b\b\b\b\b\b\b\b\b\b\b\b\b\b\b\b\b\b\b\b\b\b\b\b\b\b\b\b\b\b\b\b\b\b\b\b                                                 \b\b\b\b\b\b\b\b\b\b\b\b\b\b\b\b\b\b\b\b\b\b\b\b\b\b\b\b\b\b\b\b\b\b\b\b\b\b\b\b\b\b\b\b\b\b\b\b\b 53% 1481 - hashcat-6.1.1/modules/module_21300.so\b\b\b\b\b\b\b\b\b\b\b\b\b\b\b\b\b\b\b\b\b\b\b\b\b\b\b\b\b\b\b\b\b\b\b\b\b\b\b\b\b\b\b\b\b\b\b\b\b                                                 \b\b\b\b\b\b\b\b\b\b\b\b\b\b\b\b\b\b\b\b\b\b\b\b\b\b\b\b\b\b\b\b\b\b\b\b\b\b\b\b\b\b\b\b\b\b\b\b\b 67% 1666 - hashcat-6.1.1/modules/module_02600.dll\b\b\b\b\b\b\b\b\b\b\b\b\b\b\b\b\b\b\b\b\b\b\b\b\b\b\b\b\b\b\b\b\b\b\b\b\b\b\b\b\b\b\b\b\b\b\b\b\b\b                                                  \b\b\b\b\b\b\b\b\b\b\b\b\b\b\b\b\b\b\b\b\b\b\b\b\b\b\b\b\b\b\b\b\b\b\b\b\b\b\b\b\b\b\b\b\b\b\b\b\b\b 88% 1837 - hashcat-6.1.1/modules/module_15600.dll\b\b\b\b\b\b\b\b\b\b\b\b\b\b\b\b\b\b\b\b\b\b\b\b\b\b\b\b\b\b\b\b\b\b\b\b\b\b\b\b\b\b\b\b\b\b\b\b\b\b                                                  \b\b\b\b\b\b\b\b\b\b\b\b\b\b\b\b\b\b\b\b\b\b\b\b\b\b\b\b\b\b\b\b\b\b\b\b\b\b\b\b\b\b\b\b\b\b\b\b\b\bEverything is Ok\n",
            "\n",
            "Folders: 43\n",
            "Files: 1877\n",
            "Size:       142221984\n",
            "Compressed: 6156424\n"
          ],
          "name": "stdout"
        }
      ]
    },
    {
      "cell_type": "code",
      "metadata": {
        "id": "lJ4ftp1ua3e9"
      },
      "source": [
        "#Install of john\n",
        "if john:\n",
        "    print(\"Installation of john...\")\n",
        "    !apt-get install john -y"
      ],
      "execution_count": null,
      "outputs": []
    },
    {
      "cell_type": "code",
      "metadata": {
        "id": "nYd0hAxYdSJs"
      },
      "source": [
        "#Install of hydra\n",
        "if hydra:\n",
        "    print(\"Installation of hydra...\")\n",
        "    !apt install cmake build-essential -y\n",
        "    !apt install checkinstall git -y\n",
        "    !git clone https://github.com/vanhauser-thc/thc-hydra.git && cd thc-hydra && ./configure && make && make install"
      ],
      "execution_count": null,
      "outputs": []
    },
    {
      "cell_type": "code",
      "metadata": {
        "id": "erA610RJM1GK",
        "outputId": "a5491f18-5ef6-4893-eac9-836bcae95527",
        "colab": {
          "base_uri": "https://localhost:8080/",
          "height": 989,
          "referenced_widgets": [
            "72a99a5ab1ab44b4aa596793d84588f0",
            "a00aa5828c3041e0bed7ec5ac420eb67",
            "6e23d6d06a2a4de0a40558486aa0d5ec",
            "2f3a9fd860a44abd81798a2c8df28eaf",
            "89e5f888af5640a49e412a0633a92c77",
            "f8ad2ec053cf43ada540023861e4db94"
          ]
        }
      },
      "source": [
        "#Setting up shells\n",
        "from termcolor import colored\n",
        "import os\n",
        "\n",
        "if ssh:\n",
        "    print(\"Setting up SSH...\")\n",
        "    !pip install git+https://github.com/demotomohiro/remocolab.git\n",
        "    import remocolab\n",
        "    remocolab.setupSSHD()\n",
        "\n",
        "elif python_shell:\n",
        "    os.system(\"touch /tmp/cmd && touch /tmp/status\")\n",
        "\n",
        "    template_cmd = \"echo -n $(whoami)[$(hostname)[$(pwd) &> /tmp/status\"\n",
        "    os.system(\"bash -c '{}'\".format(template_cmd))\n",
        "    output = {\"cmd\": \"\", \"status\": \"\"}\n",
        "    with open('/tmp/cmd', 'r') as f:\n",
        "        output[\"cmd\"] = f.read()\n",
        "    with open('/tmp/status', 'r') as f:\n",
        "        output[\"status\"] = f.read()\n",
        "    prefixes = output[\"status\"].split(\"[\")\n",
        "    path = prefixes[2].replace('\\n', '')\n",
        "    prefix = colored(prefixes[0] + \"@\" + prefixes[1], \"red\") + \":\" + colored(path, \"cyan\") + \"$ \"\n",
        "    print(\"\")\n",
        "\n",
        "    while 1:\n",
        "        print(prefix, end='')\n",
        "        cmd = input()\n",
        "        template_cmd = \"cd {} && \".format(path) + \"\" + cmd + \" &> /tmp/cmd ; echo $(whoami)[$(hostname)[$(pwd) &> /tmp/status\"\n",
        "        os.system(\"bash -c '{}'\".format(template_cmd))\n",
        "        output = {\"cmd\": \"\", \"status\": \"\"}\n",
        "        with open('/tmp/cmd', 'r') as f:\n",
        "            output[\"cmd\"] = f.read()\n",
        "        with open('/tmp/status', 'r') as f:\n",
        "            output[\"status\"] = f.read()\n",
        "        prefixes = output[\"status\"].split(\"[\")\n",
        "        path = prefixes[2].replace('\\n', '')\n",
        "        prefix = colored(prefixes[0] + \"@\" + prefixes[1], \"red\") + \":\" + colored(path, \"cyan\") + \"$ \"\n",
        "        print(output[\"cmd\"])\n",
        "\n",
        "elif bash_shell:\n",
        "    !/bin/bash\n",
        "\n",
        "else:\n",
        "    print('\\n🚨🚨🚨\\n🎉 Your environment is ready !\\nWant to run it from the code blocks ?')\n",
        "    print('Just use the code block below and start your commands by a \"!\" (make sure to uncomment them).')\n",
        "    print('▶️ When you\\'re ready, hit the run button at the left of the code block !\\n')\n",
        "    print('|\\n|\\n|\\nV')"
      ],
      "execution_count": null,
      "outputs": [
        {
          "output_type": "stream",
          "text": [
            "Setting up SSH...\n",
            "Collecting git+https://github.com/demotomohiro/remocolab.git\n",
            "  Cloning https://github.com/demotomohiro/remocolab.git to /tmp/pip-req-build-bi4d0u3u\n",
            "  Running command git clone -q https://github.com/demotomohiro/remocolab.git /tmp/pip-req-build-bi4d0u3u\n",
            "Collecting pyngrok\n",
            "  Downloading https://files.pythonhosted.org/packages/b3/8a/3cfab0f9f2ac0daf459bf4e378b1e692956315328c7c219ab3e2f401ef1d/pyngrok-4.2.2.tar.gz\n",
            "Requirement already satisfied: future in /usr/local/lib/python3.6/dist-packages (from pyngrok->remocolab.py==0.1) (0.16.0)\n",
            "Requirement already satisfied: PyYAML in /usr/local/lib/python3.6/dist-packages (from pyngrok->remocolab.py==0.1) (3.13)\n",
            "Building wheels for collected packages: remocolab.py, pyngrok\n",
            "  Building wheel for remocolab.py (setup.py) ... \u001b[?25l\u001b[?25hdone\n",
            "  Created wheel for remocolab.py: filename=remocolab.py-0.1-cp36-none-any.whl size=6769 sha256=837190c6e970a8a9a7e81d09f2a33adf4c3fc5b03fdc51bf8c9a31337458fe69\n",
            "  Stored in directory: /tmp/pip-ephem-wheel-cache-qh6nfjar/wheels/9e/c3/02/22e12a4614e679c5555718bd4d0356e4b7cc1d69a1f3ddb564\n",
            "  Building wheel for pyngrok (setup.py) ... \u001b[?25l\u001b[?25hdone\n",
            "  Created wheel for pyngrok: filename=pyngrok-4.2.2-cp36-none-any.whl size=18025 sha256=1e454c09c248eff4aea0e30feaf95bfa5ec7e580aab1735ed980f090c2a19556\n",
            "  Stored in directory: /root/.cache/pip/wheels/9c/d3/b5/502fbef4b2782a6142bc00c62ccde76ee04c9148fb43b1b2cd\n",
            "Successfully built remocolab.py pyngrok\n",
            "Installing collected packages: pyngrok, remocolab.py\n",
            "Successfully installed pyngrok-4.2.2 remocolab.py-0.1\n",
            "---\n",
            "Copy&paste your tunnel authtoken from https://dashboard.ngrok.com/auth\n",
            "(You need to sign up for ngrok and login,)\n",
            "··········\n",
            "Select your ngrok region:\n",
            "us - United States (Ohio)\n",
            "eu - Europe (Frankfurt)\n",
            "ap - Asia/Pacific (Singapore)\n",
            "au - Australia (Sydney)\n",
            "sa - South America (Sao Paulo)\n",
            "jp - Japan (Tokyo)\n",
            "in - India (Mumbai)\n",
            "eu\n"
          ],
          "name": "stdout"
        },
        {
          "output_type": "display_data",
          "data": {
            "application/vnd.jupyter.widget-view+json": {
              "model_id": "72a99a5ab1ab44b4aa596793d84588f0",
              "version_minor": 0,
              "version_major": 2
            },
            "text/plain": [
              "Label(value='')"
            ]
          },
          "metadata": {
            "tags": []
          }
        },
        {
          "output_type": "display_data",
          "data": {
            "application/vnd.jupyter.widget-view+json": {
              "model_id": "2f3a9fd860a44abd81798a2c8df28eaf",
              "version_minor": 0,
              "version_major": 2
            },
            "text/plain": [
              "FloatProgress(value=0.0, layout=Layout(border='1px solid #118800'), max=1.0)"
            ]
          },
          "metadata": {
            "tags": []
          }
        },
        {
          "output_type": "stream",
          "text": [
            "Install openssh-server\n",
            "ECDSA key fingerprint of host:\n",
            "256 SHA256:AXBw3NiY5S/NdeO1GTOAeCINKZ4YS/3HS00KJPjWna4 root@973fcaba294b (ECDSA)\n",
            "+---[ECDSA 256]---+\n",
            "|    ===X= . ..   |\n",
            "|   + =**o+ +  .  |\n",
            "|  . * = B B . o+.|\n",
            "|   o = o % o o o*|\n",
            "|    .   S =   .o |\n",
            "|         +       |\n",
            "|        .        |\n",
            "|       E         |\n",
            "|                 |\n",
            "+----[SHA256]-----+\n",
            "\n",
            "✂️✂️✂️✂️✂️✂️✂️✂️✂️✂️✂️✂️✂️✂️✂️✂️✂️✂️✂️✂️✂️✂️✂️✂️\n",
            "root password: P66EkLGBxTo9s1B3vXlp6I-2TAm9Vk_nUvlOpet3yo0\n",
            "colab password: wrSYJefcN8IUTi2Gh5X4Prvy6m_Ksmfa7JGjA-5Y4MI\n",
            "✂️✂️✂️✂️✂️✂️✂️✂️✂️✂️✂️✂️✂️✂️✂️✂️✂️✂️✂️✂️✂️✂️✂️✂️\n",
            "---\n",
            "Command to connect to the ssh server:\n",
            "✂️✂️✂️✂️✂️✂️✂️✂️✂️✂️✂️✂️✂️✂️✂️✂️✂️✂️✂️✂️✂️✂️✂️✂️\n",
            "ssh -o UserKnownHostsFile=/dev/null -o VisualHostKey=yes -p 16694 colab@2.tcp.eu.ngrok.io\n",
            "✂️✂️✂️✂️✂️✂️✂️✂️✂️✂️✂️✂️✂️✂️✂️✂️✂️✂️✂️✂️✂️✂️✂️✂️\n",
            "\n"
          ],
          "name": "stdout"
        }
      ]
    },
    {
      "cell_type": "code",
      "metadata": {
        "id": "7ucWO9luB4RG"
      },
      "source": [
        "# Put your code here :\n",
        "# !hashcat -h\n",
        "# !john --help"
      ],
      "execution_count": null,
      "outputs": []
    }
  ]
}